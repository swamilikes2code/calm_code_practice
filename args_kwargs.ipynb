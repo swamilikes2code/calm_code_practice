{
 "cells": [
  {
   "cell_type": "code",
   "execution_count": null,
   "metadata": {},
   "outputs": [],
   "source": [
    "def test_function(a, b, *args):\n",
    "    print(a,b)\n",
    "    print(args)\n",
    "\n",
    "test_function(1.5, 2.5, 3., 6., 8.)"
   ]
  },
  {
   "cell_type": "markdown",
   "metadata": {},
   "source": [
    "---\n",
    "\n",
    "* args picks up unnamed inputs\n",
    "\n",
    "* kwargs picks up named inputs and places them in a dictionay with the key value as the name\n",
    "\n",
    "* positional and keyword arguments are separated by a single boundary. That is first positional arguments then keyword arguments\n",
    "\n",
    "* can directly unpack variables using * for unnamed variables and ** unpacking a dictionary which is key value pairs or named variables\n",
    "---"
   ]
  },
  {
   "cell_type": "code",
   "execution_count": null,
   "metadata": {},
   "outputs": [],
   "source": [
    "test_dict = {'param_x': 42.0, 'param_y': 43.0}\n",
    "def test_function(a, b, *args, **kwargs):\n",
    "    print(a,b)\n",
    "    print(args)\n",
    "    print(kwargs)\n",
    "\n",
    "test_function(1.5, 2.5, *[3., 6., 8.], **test_dict)"
   ]
  },
  {
   "cell_type": "code",
   "execution_count": null,
   "metadata": {},
   "outputs": [],
   "source": [
    "import json\n",
    "import pathlib\n",
    "\n",
    "def dict_to_logfile(input_dictionary, file='logfile.txt', verbose=False, **kwargs):\n",
    "    \n",
    "    json_txt = json.dumps(input_dictionary, **kwargs)\n",
    "    if verbose:\n",
    "        print(json_txt)\n",
    "    pathlib.Path(file).write_text(json_txt)"
   ]
  },
  {
   "cell_type": "code",
   "execution_count": null,
   "metadata": {},
   "outputs": [],
   "source": [
    "dict_to_logfile({'velocity': 98.0, 'test_rig': 'wheels', 'thermal': 'TRUE'},\n",
    "                verbose=True, indent=4, separators=(',', ':'))"
   ]
  },
  {
   "cell_type": "code",
   "execution_count": null,
   "metadata": {},
   "outputs": [],
   "source": [
    "dict_to_logfile({'velocity': 98.0, 'test_rig': 'wheels', 'thermal': 'TRUE'},\n",
    "                verbose=True, indent=4, separators=None)"
   ]
  },
  {
   "cell_type": "code",
   "execution_count": null,
   "metadata": {},
   "outputs": [],
   "source": [
    "json.dumps?"
   ]
  },
  {
   "cell_type": "code",
   "execution_count": null,
   "metadata": {},
   "outputs": [],
   "source": []
  },
  {
   "cell_type": "code",
   "execution_count": null,
   "metadata": {},
   "outputs": [],
   "source": []
  }
 ],
 "metadata": {
  "kernelspec": {
   "display_name": "Python 3",
   "language": "python",
   "name": "python3"
  },
  "language_info": {
   "codemirror_mode": {
    "name": "ipython",
    "version": 3
   },
   "file_extension": ".py",
   "mimetype": "text/x-python",
   "name": "python",
   "nbconvert_exporter": "python",
   "pygments_lexer": "ipython3",
   "version": "3.8.5"
  }
 },
 "nbformat": 4,
 "nbformat_minor": 4
}
